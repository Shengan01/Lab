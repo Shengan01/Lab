{
 "cells": [
  {
   "cell_type": "code",
   "execution_count": 13,
   "id": "ecac9df5",
   "metadata": {},
   "outputs": [
    {
     "name": "stdout",
     "output_type": "stream",
     "text": [
      "1\n",
      "1\n",
      "[2 5 5]\n",
      "[ 5  1  6 -1]\n",
      "[[3 5 1]\n",
      " [1 2 8]]\n",
      "[[3 5 1]\n",
      " [1 2 8]]\n",
      "[[2 5]\n",
      " [5 2]\n",
      " [5 6]]\n",
      "[[ 3  1]\n",
      " [ 1  8]\n",
      " [ 1 -1]]\n",
      "[[ 1  5  3  2]\n",
      " [ 8  2  1  5]\n",
      " [-1  6  1  5]]\n",
      "\n",
      "Nastepne \n",
      "\n",
      "[[ 3  3  1]\n",
      " [ 1  1  8]\n",
      " [ 1  1 -1]]\n",
      "[3 5 5 8 5 6]\n"
     ]
    }
   ],
   "source": [
    "import numpy as np\n",
    "arr = np.array([[2,3,5,1],\n",
    "                [5,1,2,8],\n",
    "                [5,1,6,-1]])\n",
    "pojedynczy_element = arr[0,3]\n",
    "pojedynczy_element_od_konca = arr[-3,-1]\n",
    "kolumna = arr[:,0]\n",
    "wiersz = arr[2,:]\n",
    "obszar = arr[0:2,1:4]\n",
    "obszar_pomijajac_koncowe_indeksy = arr[:2,1:]\n",
    "parzyste_kolumny = arr[:,::2]\n",
    "nieparzyste_kolumny = arr[:,1::2]\n",
    "odwrocone_kolumny = arr[:,::-1]\n",
    "\n",
    "print(pojedynczy_element)\n",
    "print(pojedynczy_element_od_konca)\n",
    "print(kolumna)\n",
    "print(wiersz)\n",
    "print(obszar)\n",
    "print(obszar_pomijajac_koncowe_indeksy)\n",
    "print(parzyste_kolumny)\n",
    "print(nieparzyste_kolumny)\n",
    "print(odwrocone_kolumny)\n",
    "\n",
    "print(\"\\nNastepne \\n\")\n",
    "\n",
    "indeksy = [1, 1, -1]\n",
    "wybrane_kolumny = arr[:,indeksy]\n",
    "maska = arr>2\n",
    "arr_maskowane = arr[maska]\n",
    "\n",
    "\n",
    "print(wybrane_kolumny)\n",
    "print(arr_maskowane)"
   ]
  },
  {
   "cell_type": "code",
   "execution_count": null,
   "id": "c7db05ea",
   "metadata": {},
   "outputs": [],
   "source": []
  }
 ],
 "metadata": {
  "kernelspec": {
   "display_name": "Python 3 (ipykernel)",
   "language": "python",
   "name": "python3"
  },
  "language_info": {
   "codemirror_mode": {
    "name": "ipython",
    "version": 3
   },
   "file_extension": ".py",
   "mimetype": "text/x-python",
   "name": "python",
   "nbconvert_exporter": "python",
   "pygments_lexer": "ipython3",
   "version": "3.11.4"
  }
 },
 "nbformat": 4,
 "nbformat_minor": 5
}
