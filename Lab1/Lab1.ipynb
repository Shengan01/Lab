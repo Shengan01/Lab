{
 "cells": [
  {
   "cell_type": "code",
   "execution_count": 1,
   "id": "30e2ce3f",
   "metadata": {},
   "outputs": [],
   "source": [
    "import numpy as np\n",
    "import pandas as pd\n",
    "import matplotlib.pyplot as plt"
   ]
  },
  {
   "cell_type": "code",
   "execution_count": 2,
   "id": "19b97e95",
   "metadata": {},
   "outputs": [
    {
     "name": "stdout",
     "output_type": "stream",
     "text": [
      "1\n",
      "1\n"
     ]
    }
   ],
   "source": [
    "arr = np.array([[2, 3, 5, 1],\n",
    "                [5, 1, 2 ,8],\n",
    "                [5, 1, 6, -1]])\n",
    "pojedynczy_element = arr[0, 3]\n",
    "pojedynczy_element_od_konca = arr[-3, -1]\n",
    "\n",
    "print(pojedynczy_element)\n",
    "print(pojedynczy_element_od_konca)"
   ]
  },
  {
   "cell_type": "code",
   "execution_count": 3,
   "id": "14ad26d9",
   "metadata": {},
   "outputs": [],
   "source": [
    "kolumna = arr[:, 0]\n",
    "wiersz = arr[2, :]\n",
    "obszar = arr[0:2, 1:4]\n",
    "obszar_pomijajac_koncowe_indeksy = arr[:2, 1:]\n",
    "parzyste_kolumny = arr[:, ::2]\n",
    "nieparzyste_kolumny = arr[:, 1::2]\n",
    "odwrocone_kolumny = arr[:, ::-1]"
   ]
  },
  {
   "cell_type": "code",
   "execution_count": 4,
   "id": "03833e8c",
   "metadata": {},
   "outputs": [
    {
     "name": "stdout",
     "output_type": "stream",
     "text": [
      "[2 5 5]\n",
      "\n",
      "\n",
      "[ 5  1  6 -1]\n",
      "\n",
      "\n",
      "[[3 5 1]\n",
      " [1 2 8]]\n",
      "\n",
      "\n",
      "[[3 5 1]\n",
      " [1 2 8]]\n",
      "\n",
      "\n",
      "[[2 5]\n",
      " [5 2]\n",
      " [5 6]]\n",
      "\n",
      "\n",
      "[[ 3  1]\n",
      " [ 1  8]\n",
      " [ 1 -1]]\n",
      "\n",
      "\n",
      "[[ 1  5  3  2]\n",
      " [ 8  2  1  5]\n",
      " [-1  6  1  5]]\n"
     ]
    }
   ],
   "source": [
    "print(kolumna)\n",
    "print(\"\\n\")\n",
    "print(wiersz)\n",
    "print(\"\\n\")\n",
    "print(obszar)\n",
    "print(\"\\n\")\n",
    "print(obszar_pomijajac_koncowe_indeksy)\n",
    "print(\"\\n\")\n",
    "print(parzyste_kolumny)\n",
    "print(\"\\n\")\n",
    "print(nieparzyste_kolumny)\n",
    "print(\"\\n\")\n",
    "print(odwrocone_kolumny)"
   ]
  },
  {
   "cell_type": "code",
   "execution_count": 5,
   "id": "50b75cf9",
   "metadata": {},
   "outputs": [
    {
     "name": "stdout",
     "output_type": "stream",
     "text": [
      "[[ 3  3  1]\n",
      " [ 1  1  8]\n",
      " [ 1  1 -1]]\n",
      "\n",
      "\n",
      "[3 5 5 8 5 6]\n"
     ]
    }
   ],
   "source": [
    "indeksy = [1, 1, -1]\n",
    "wybrane_kolumny = arr[:, indeksy]\n",
    "maska = arr > 2\n",
    "arr_maskowane = arr[maska]\n",
    "print(wybrane_kolumny)\n",
    "print(\"\\n\")\n",
    "print(arr_maskowane)"
   ]
  },
  {
   "cell_type": "code",
   "execution_count": 6,
   "id": "616987e9",
   "metadata": {},
   "outputs": [],
   "source": [
    "arr1 = np.array([1 ,2 ,3, 4, 5, 6])\n",
    "arr2 = np.array([7, 8, 9, 10, 11, 12])\n",
    "suma = arr1 + arr2\n",
    "roznica = arr1 - arr2\n",
    "arr1_razy_2  = 2 * arr1\n",
    "arr1_plus_2 = 2 + arr1\n",
    "arr1_do_kwadratu = arr1 ** 2\n",
    "suma_kwadratow = arr1 ** 2 + arr2 ** 2"
   ]
  },
  {
   "cell_type": "code",
   "execution_count": 7,
   "id": "c4ffd592",
   "metadata": {},
   "outputs": [
    {
     "name": "stdout",
     "output_type": "stream",
     "text": [
      "[1 2 3 4 5 6]\n",
      "[ 7  8  9 10 11 12]\n",
      "[ 8 10 12 14 16 18]\n",
      "[-6 -6 -6 -6 -6 -6]\n",
      "[ 2  4  6  8 10 12]\n",
      "[3 4 5 6 7 8]\n",
      "[ 1  4  9 16 25 36]\n",
      "[ 50  68  90 116 146 180]\n"
     ]
    }
   ],
   "source": [
    "print(arr1)\n",
    "print(arr2)\n",
    "print(suma)\n",
    "print(roznica)\n",
    "print(arr1_razy_2)\n",
    "print(arr1_plus_2)\n",
    "print(arr1_do_kwadratu)\n",
    "print(suma_kwadratow)"
   ]
  },
  {
   "cell_type": "code",
   "execution_count": 8,
   "id": "024b0a71",
   "metadata": {},
   "outputs": [],
   "source": [
    "suma_arr1 = arr1.sum()\n",
    "suma_sum = (arr1 + arr2).sum()\n",
    "iloczyn_sum = (arr1+arr2).prod()"
   ]
  },
  {
   "cell_type": "code",
   "execution_count": 9,
   "id": "8dbc40e5",
   "metadata": {},
   "outputs": [
    {
     "name": "stdout",
     "output_type": "stream",
     "text": [
      "21\n",
      "78\n",
      "3870720\n"
     ]
    }
   ],
   "source": [
    "print(suma_arr1)\n",
    "print(suma_sum)\n",
    "print(iloczyn_sum)"
   ]
  },
  {
   "cell_type": "code",
   "execution_count": 10,
   "id": "6363f3a6",
   "metadata": {},
   "outputs": [],
   "source": [
    "sumy_kolumn = arr.sum(axis = 0)\n",
    "sumy_wierszy = arr.sum(axis = 1)"
   ]
  },
  {
   "cell_type": "code",
   "execution_count": 11,
   "id": "e155d792",
   "metadata": {},
   "outputs": [
    {
     "name": "stdout",
     "output_type": "stream",
     "text": [
      "[12  5 13  8]\n",
      "[11 16 11]\n"
     ]
    }
   ],
   "source": [
    "print(sumy_kolumn)\n",
    "print(sumy_wierszy)"
   ]
  },
  {
   "cell_type": "code",
   "execution_count": 12,
   "id": "718b3ce6",
   "metadata": {},
   "outputs": [
    {
     "name": "stdout",
     "output_type": "stream",
     "text": [
      "[1 2 3 4 5 6]\n",
      "[0.  0.2 0.4 0.6 0.8 1. ]\n"
     ]
    }
   ],
   "source": [
    "arr1_0_1 = (arr1 - arr1.min()) / (arr1.max() - arr1.min())\n",
    "print(arr1)\n",
    "print(arr1_0_1)"
   ]
  },
  {
   "cell_type": "code",
   "execution_count": 13,
   "id": "640c0edd",
   "metadata": {},
   "outputs": [
    {
     "name": "stdout",
     "output_type": "stream",
     "text": [
      "[[0.         1.         0.75       0.22222222]\n",
      " [1.         0.         0.         1.        ]\n",
      " [1.         0.         1.         0.        ]]\n"
     ]
    }
   ],
   "source": [
    "arr_0_1 = (arr - arr.min(axis = 0)) / (arr.max(axis = 0) - arr.min(axis = 0))\n",
    "print(arr_0_1)"
   ]
  },
  {
   "cell_type": "code",
   "execution_count": 14,
   "id": "89c7a9e9",
   "metadata": {},
   "outputs": [],
   "source": [
    "data_excel = pd.read_excel(\"practice_lab_1.xlsx\")"
   ]
  },
  {
   "cell_type": "code",
   "execution_count": 15,
   "id": "75ca330b",
   "metadata": {},
   "outputs": [
    {
     "data": {
      "text/html": [
       "<div>\n",
       "<style scoped>\n",
       "    .dataframe tbody tr th:only-of-type {\n",
       "        vertical-align: middle;\n",
       "    }\n",
       "\n",
       "    .dataframe tbody tr th {\n",
       "        vertical-align: top;\n",
       "    }\n",
       "\n",
       "    .dataframe thead th {\n",
       "        text-align: right;\n",
       "    }\n",
       "</style>\n",
       "<table border=\"1\" class=\"dataframe\">\n",
       "  <thead>\n",
       "    <tr style=\"text-align: right;\">\n",
       "      <th></th>\n",
       "      <th>kolumna 1</th>\n",
       "      <th>kolumna 2</th>\n",
       "      <th>kolumna 3</th>\n",
       "      <th>kolumna 4</th>\n",
       "      <th>kolumna 5</th>\n",
       "      <th>kolumna 6</th>\n",
       "      <th>kolumna 7</th>\n",
       "    </tr>\n",
       "  </thead>\n",
       "  <tbody>\n",
       "    <tr>\n",
       "      <th>0</th>\n",
       "      <td>0.00632</td>\n",
       "      <td>18.0</td>\n",
       "      <td>2.31</td>\n",
       "      <td>1</td>\n",
       "      <td>0.538</td>\n",
       "      <td>6.575</td>\n",
       "      <td>65.2</td>\n",
       "    </tr>\n",
       "    <tr>\n",
       "      <th>1</th>\n",
       "      <td>0.02731</td>\n",
       "      <td>0.0</td>\n",
       "      <td>7.07</td>\n",
       "      <td>0</td>\n",
       "      <td>0.469</td>\n",
       "      <td>6.421</td>\n",
       "      <td>78.9</td>\n",
       "    </tr>\n",
       "    <tr>\n",
       "      <th>2</th>\n",
       "      <td>0.02729</td>\n",
       "      <td>0.0</td>\n",
       "      <td>7.07</td>\n",
       "      <td>0</td>\n",
       "      <td>0.469</td>\n",
       "      <td>7.185</td>\n",
       "      <td>61.1</td>\n",
       "    </tr>\n",
       "    <tr>\n",
       "      <th>3</th>\n",
       "      <td>0.03237</td>\n",
       "      <td>0.0</td>\n",
       "      <td>2.18</td>\n",
       "      <td>0</td>\n",
       "      <td>0.458</td>\n",
       "      <td>6.998</td>\n",
       "      <td>45.8</td>\n",
       "    </tr>\n",
       "    <tr>\n",
       "      <th>4</th>\n",
       "      <td>0.06905</td>\n",
       "      <td>0.0</td>\n",
       "      <td>2.18</td>\n",
       "      <td>0</td>\n",
       "      <td>0.458</td>\n",
       "      <td>7.147</td>\n",
       "      <td>54.2</td>\n",
       "    </tr>\n",
       "    <tr>\n",
       "      <th>...</th>\n",
       "      <td>...</td>\n",
       "      <td>...</td>\n",
       "      <td>...</td>\n",
       "      <td>...</td>\n",
       "      <td>...</td>\n",
       "      <td>...</td>\n",
       "      <td>...</td>\n",
       "    </tr>\n",
       "    <tr>\n",
       "      <th>95</th>\n",
       "      <td>0.12204</td>\n",
       "      <td>0.0</td>\n",
       "      <td>2.89</td>\n",
       "      <td>0</td>\n",
       "      <td>0.445</td>\n",
       "      <td>6.625</td>\n",
       "      <td>57.8</td>\n",
       "    </tr>\n",
       "    <tr>\n",
       "      <th>96</th>\n",
       "      <td>0.11504</td>\n",
       "      <td>0.0</td>\n",
       "      <td>2.89</td>\n",
       "      <td>0</td>\n",
       "      <td>0.445</td>\n",
       "      <td>6.163</td>\n",
       "      <td>69.6</td>\n",
       "    </tr>\n",
       "    <tr>\n",
       "      <th>97</th>\n",
       "      <td>0.12083</td>\n",
       "      <td>0.0</td>\n",
       "      <td>2.89</td>\n",
       "      <td>0</td>\n",
       "      <td>0.445</td>\n",
       "      <td>8.069</td>\n",
       "      <td>76.0</td>\n",
       "    </tr>\n",
       "    <tr>\n",
       "      <th>98</th>\n",
       "      <td>0.08187</td>\n",
       "      <td>0.0</td>\n",
       "      <td>2.89</td>\n",
       "      <td>0</td>\n",
       "      <td>0.445</td>\n",
       "      <td>7.820</td>\n",
       "      <td>36.9</td>\n",
       "    </tr>\n",
       "    <tr>\n",
       "      <th>99</th>\n",
       "      <td>0.06860</td>\n",
       "      <td>0.0</td>\n",
       "      <td>2.89</td>\n",
       "      <td>0</td>\n",
       "      <td>0.445</td>\n",
       "      <td>7.416</td>\n",
       "      <td>62.5</td>\n",
       "    </tr>\n",
       "  </tbody>\n",
       "</table>\n",
       "<p>100 rows × 7 columns</p>\n",
       "</div>"
      ],
      "text/plain": [
       "    kolumna 1  kolumna 2  kolumna 3  kolumna 4  kolumna 5  kolumna 6  \\\n",
       "0     0.00632       18.0       2.31          1      0.538      6.575   \n",
       "1     0.02731        0.0       7.07          0      0.469      6.421   \n",
       "2     0.02729        0.0       7.07          0      0.469      7.185   \n",
       "3     0.03237        0.0       2.18          0      0.458      6.998   \n",
       "4     0.06905        0.0       2.18          0      0.458      7.147   \n",
       "..        ...        ...        ...        ...        ...        ...   \n",
       "95    0.12204        0.0       2.89          0      0.445      6.625   \n",
       "96    0.11504        0.0       2.89          0      0.445      6.163   \n",
       "97    0.12083        0.0       2.89          0      0.445      8.069   \n",
       "98    0.08187        0.0       2.89          0      0.445      7.820   \n",
       "99    0.06860        0.0       2.89          0      0.445      7.416   \n",
       "\n",
       "    kolumna 7  \n",
       "0        65.2  \n",
       "1        78.9  \n",
       "2        61.1  \n",
       "3        45.8  \n",
       "4        54.2  \n",
       "..        ...  \n",
       "95       57.8  \n",
       "96       69.6  \n",
       "97       76.0  \n",
       "98       36.9  \n",
       "99       62.5  \n",
       "\n",
       "[100 rows x 7 columns]"
      ]
     },
     "execution_count": 15,
     "metadata": {},
     "output_type": "execute_result"
    }
   ],
   "source": [
    "data_excel"
   ]
  },
  {
   "cell_type": "code",
   "execution_count": 16,
   "id": "8c859b6d",
   "metadata": {},
   "outputs": [],
   "source": [
    "nazwy_kolumny = list(data_excel.columns)\n",
    "wartosci_kolumny = data_excel.values"
   ]
  },
  {
   "cell_type": "code",
   "execution_count": 17,
   "id": "5595e205",
   "metadata": {},
   "outputs": [
    {
     "data": {
      "text/plain": [
       "Text(0, 0.5, 'y')"
      ]
     },
     "execution_count": 17,
     "metadata": {},
     "output_type": "execute_result"
    },
    {
     "data": {
      "image/png": "[encoded data removed]",
      "text/plain": [
       "<Figure size 640x480 with 1 Axes>"
      ]
     },
     "metadata": {},
     "output_type": "display_data"
    }
   ],
   "source": [
    "x = np.arange(0, 10, 0.1)\n",
    "y = np.sin(x**2 - 5*x +3)\n",
    "plt.scatter(x, y)\n",
    "plt.plot(x, y)\n",
    "plt.xlabel('x')\n",
    "plt.ylabel('y')"
   ]
  },
  {
   "cell_type": "code",
   "execution_count": 18,
   "id": "46d9900c",
   "metadata": {},
   "outputs": [
    {
     "data": {
      "image/png": "[encoded data removed]",
      "text/plain": [
       "<Figure size 1000x500 with 2 Axes>"
      ]
     },
     "metadata": {},
     "output_type": "display_data"
    }
   ],
   "source": [
    "fig, ax = plt.subplots(1, 2, figsize = (10, 5))\n",
    "ax[0].plot(x, y)\n",
    "ax[0].set_xlabel(\"x\")\n",
    "ax[0].set_ylabel(\"y\")\n",
    "ax[1].scatter(x, y)\n",
    "ax[1].set_xlabel(\"x\")\n",
    "ax[1].set_ylabel(\"y\")\n",
    "fig.tight_layout()"
   ]
  },
  {
   "cell_type": "code",
   "execution_count": 19,
   "id": "223d9046",
   "metadata": {},
   "outputs": [
    {
     "data": {
      "text/plain": [
       "{'whiskers': [<matplotlib.lines.Line2D at 0x12d6a8b4650>,\n",
       "  <matplotlib.lines.Line2D at 0x12d6a917dd0>],\n",
       " 'caps': [<matplotlib.lines.Line2D at 0x12d6a92c6d0>,\n",
       "  <matplotlib.lines.Line2D at 0x12d6a92cf50>],\n",
       " 'boxes': [<matplotlib.lines.Line2D at 0x12d69ff0210>],\n",
       " 'medians': [<matplotlib.lines.Line2D at 0x12d6a92d750>],\n",
       " 'fliers': [<matplotlib.lines.Line2D at 0x12d6a92de90>],\n",
       " 'means': []}"
      ]
     },
     "execution_count": 19,
     "metadata": {},
     "output_type": "execute_result"
    },
    {
     "data": {
      "image/png": "[encoded data removed]",
      "text/plain": [
       "<Figure size 1000x1000 with 4 Axes>"
      ]
     },
     "metadata": {},
     "output_type": "display_data"
    }
   ],
   "source": [
    "fig, ax = plt.subplots(2, 2, figsize = (10, 10))\n",
    "ax[0, 0].scatter(x, y)\n",
    "ax[0, 1].plot(x, y)\n",
    "ax[1, 0].hist(y)\n",
    "ax[1, 1,].boxplot(y)"
   ]
  },
  {
   "cell_type": "code",
   "execution_count": 20,
   "id": "53dcebdf",
   "metadata": {},
   "outputs": [],
   "source": [
    "zadanie_1 = pd.read_excel(\"practice_lab_1.xlsx\")\n",
    "wartosci_kolumn = np.array(zadanie_1.values)\n",
    "nazwy_kolumny = list(zadanie_1.columns)"
   ]
  },
  {
   "cell_type": "code",
   "execution_count": 21,
   "id": "8e7870bd",
   "metadata": {},
   "outputs": [
    {
     "name": "stdout",
     "output_type": "stream",
     "text": [
      "2\n",
      "['kolumna 1', 'kolumna 2', 'kolumna 3', 'kolumna 4', 'kolumna 5', 'kolumna 6', 'kolumna 7']\n"
     ]
    }
   ],
   "source": [
    "print(wartosci_kolumn.ndim)\n",
    "print(nazwy_kolumny)"
   ]
  },
  {
   "cell_type": "code",
   "execution_count": 22,
   "id": "c00ae855",
   "metadata": {},
   "outputs": [
    {
     "data": {
      "text/html": [
       "<div>\n",
       "<style scoped>\n",
       "    .dataframe tbody tr th:only-of-type {\n",
       "        vertical-align: middle;\n",
       "    }\n",
       "\n",
       "    .dataframe tbody tr th {\n",
       "        vertical-align: top;\n",
       "    }\n",
       "\n",
       "    .dataframe thead th {\n",
       "        text-align: right;\n",
       "    }\n",
       "</style>\n",
       "<table border=\"1\" class=\"dataframe\">\n",
       "  <thead>\n",
       "    <tr style=\"text-align: right;\">\n",
       "      <th></th>\n",
       "      <th>kolumna 1</th>\n",
       "      <th>kolumna 2</th>\n",
       "      <th>kolumna 3</th>\n",
       "      <th>kolumna 4</th>\n",
       "      <th>kolumna 5</th>\n",
       "      <th>kolumna 6</th>\n",
       "      <th>kolumna 7</th>\n",
       "    </tr>\n",
       "  </thead>\n",
       "  <tbody>\n",
       "    <tr>\n",
       "      <th>0</th>\n",
       "      <td>0.00632</td>\n",
       "      <td>18.0</td>\n",
       "      <td>2.31</td>\n",
       "      <td>1</td>\n",
       "      <td>0.538</td>\n",
       "      <td>6.575</td>\n",
       "      <td>65.2</td>\n",
       "    </tr>\n",
       "    <tr>\n",
       "      <th>1</th>\n",
       "      <td>0.02731</td>\n",
       "      <td>0.0</td>\n",
       "      <td>7.07</td>\n",
       "      <td>0</td>\n",
       "      <td>0.469</td>\n",
       "      <td>6.421</td>\n",
       "      <td>78.9</td>\n",
       "    </tr>\n",
       "    <tr>\n",
       "      <th>2</th>\n",
       "      <td>0.02729</td>\n",
       "      <td>0.0</td>\n",
       "      <td>7.07</td>\n",
       "      <td>0</td>\n",
       "      <td>0.469</td>\n",
       "      <td>7.185</td>\n",
       "      <td>61.1</td>\n",
       "    </tr>\n",
       "    <tr>\n",
       "      <th>3</th>\n",
       "      <td>0.03237</td>\n",
       "      <td>0.0</td>\n",
       "      <td>2.18</td>\n",
       "      <td>0</td>\n",
       "      <td>0.458</td>\n",
       "      <td>6.998</td>\n",
       "      <td>45.8</td>\n",
       "    </tr>\n",
       "    <tr>\n",
       "      <th>4</th>\n",
       "      <td>0.06905</td>\n",
       "      <td>0.0</td>\n",
       "      <td>2.18</td>\n",
       "      <td>0</td>\n",
       "      <td>0.458</td>\n",
       "      <td>7.147</td>\n",
       "      <td>54.2</td>\n",
       "    </tr>\n",
       "    <tr>\n",
       "      <th>...</th>\n",
       "      <td>...</td>\n",
       "      <td>...</td>\n",
       "      <td>...</td>\n",
       "      <td>...</td>\n",
       "      <td>...</td>\n",
       "      <td>...</td>\n",
       "      <td>...</td>\n",
       "    </tr>\n",
       "    <tr>\n",
       "      <th>95</th>\n",
       "      <td>0.12204</td>\n",
       "      <td>0.0</td>\n",
       "      <td>2.89</td>\n",
       "      <td>0</td>\n",
       "      <td>0.445</td>\n",
       "      <td>6.625</td>\n",
       "      <td>57.8</td>\n",
       "    </tr>\n",
       "    <tr>\n",
       "      <th>96</th>\n",
       "      <td>0.11504</td>\n",
       "      <td>0.0</td>\n",
       "      <td>2.89</td>\n",
       "      <td>0</td>\n",
       "      <td>0.445</td>\n",
       "      <td>6.163</td>\n",
       "      <td>69.6</td>\n",
       "    </tr>\n",
       "    <tr>\n",
       "      <th>97</th>\n",
       "      <td>0.12083</td>\n",
       "      <td>0.0</td>\n",
       "      <td>2.89</td>\n",
       "      <td>0</td>\n",
       "      <td>0.445</td>\n",
       "      <td>8.069</td>\n",
       "      <td>76.0</td>\n",
       "    </tr>\n",
       "    <tr>\n",
       "      <th>98</th>\n",
       "      <td>0.08187</td>\n",
       "      <td>0.0</td>\n",
       "      <td>2.89</td>\n",
       "      <td>0</td>\n",
       "      <td>0.445</td>\n",
       "      <td>7.820</td>\n",
       "      <td>36.9</td>\n",
       "    </tr>\n",
       "    <tr>\n",
       "      <th>99</th>\n",
       "      <td>0.06860</td>\n",
       "      <td>0.0</td>\n",
       "      <td>2.89</td>\n",
       "      <td>0</td>\n",
       "      <td>0.445</td>\n",
       "      <td>7.416</td>\n",
       "      <td>62.5</td>\n",
       "    </tr>\n",
       "  </tbody>\n",
       "</table>\n",
       "<p>100 rows × 7 columns</p>\n",
       "</div>"
      ],
      "text/plain": [
       "    kolumna 1  kolumna 2  kolumna 3  kolumna 4  kolumna 5  kolumna 6  \\\n",
       "0     0.00632       18.0       2.31          1      0.538      6.575   \n",
       "1     0.02731        0.0       7.07          0      0.469      6.421   \n",
       "2     0.02729        0.0       7.07          0      0.469      7.185   \n",
       "3     0.03237        0.0       2.18          0      0.458      6.998   \n",
       "4     0.06905        0.0       2.18          0      0.458      7.147   \n",
       "..        ...        ...        ...        ...        ...        ...   \n",
       "95    0.12204        0.0       2.89          0      0.445      6.625   \n",
       "96    0.11504        0.0       2.89          0      0.445      6.163   \n",
       "97    0.12083        0.0       2.89          0      0.445      8.069   \n",
       "98    0.08187        0.0       2.89          0      0.445      7.820   \n",
       "99    0.06860        0.0       2.89          0      0.445      7.416   \n",
       "\n",
       "    kolumna 7  \n",
       "0        65.2  \n",
       "1        78.9  \n",
       "2        61.1  \n",
       "3        45.8  \n",
       "4        54.2  \n",
       "..        ...  \n",
       "95       57.8  \n",
       "96       69.6  \n",
       "97       76.0  \n",
       "98       36.9  \n",
       "99       62.5  \n",
       "\n",
       "[100 rows x 7 columns]"
      ]
     },
     "execution_count": 22,
     "metadata": {},
     "output_type": "execute_result"
    }
   ],
   "source": [
    "zadanie_1"
   ]
  },
  {
   "cell_type": "code",
   "execution_count": 23,
   "id": "e98efa3d",
   "metadata": {},
   "outputs": [],
   "source": [
    "roznica = wartosci_kolumn[::2, :] - wartosci_kolumn[1::2, :]"
   ]
  },
  {
   "cell_type": "raw",
   "id": "0880b52e",
   "metadata": {},
   "source": [
    "pd.DataFrame(roznica).head()"
   ]
  },
  {
   "cell_type": "code",
   "execution_count": 24,
   "id": "affbfc0c",
   "metadata": {},
   "outputs": [],
   "source": [
    "zadanie_1_2 = (wartosci_kolumn - wartosci_kolumn.mean()) / wartosci_kolumn.std()"
   ]
  },
  {
   "cell_type": "code",
   "execution_count": 25,
   "id": "8f4f77a6",
   "metadata": {},
   "outputs": [
    {
     "data": {
      "text/html": [
       "<div>\n",
       "<style scoped>\n",
       "    .dataframe tbody tr th:only-of-type {\n",
       "        vertical-align: middle;\n",
       "    }\n",
       "\n",
       "    .dataframe tbody tr th {\n",
       "        vertical-align: top;\n",
       "    }\n",
       "\n",
       "    .dataframe thead th {\n",
       "        text-align: right;\n",
       "    }\n",
       "</style>\n",
       "<table border=\"1\" class=\"dataframe\">\n",
       "  <thead>\n",
       "    <tr style=\"text-align: right;\">\n",
       "      <th></th>\n",
       "      <th>0</th>\n",
       "      <th>1</th>\n",
       "      <th>2</th>\n",
       "      <th>3</th>\n",
       "      <th>4</th>\n",
       "      <th>5</th>\n",
       "      <th>6</th>\n",
       "    </tr>\n",
       "  </thead>\n",
       "  <tbody>\n",
       "    <tr>\n",
       "      <th>0</th>\n",
       "      <td>-0.510211</td>\n",
       "      <td>0.271015</td>\n",
       "      <td>-0.410193</td>\n",
       "      <td>-0.467068</td>\n",
       "      <td>-0.487127</td>\n",
       "      <td>-0.225021</td>\n",
       "      <td>2.320280</td>\n",
       "    </tr>\n",
       "    <tr>\n",
       "      <th>1</th>\n",
       "      <td>-0.509299</td>\n",
       "      <td>-0.510485</td>\n",
       "      <td>-0.203529</td>\n",
       "      <td>-0.510485</td>\n",
       "      <td>-0.490123</td>\n",
       "      <td>-0.231707</td>\n",
       "      <td>2.915088</td>\n",
       "    </tr>\n",
       "    <tr>\n",
       "      <th>2</th>\n",
       "      <td>-0.509300</td>\n",
       "      <td>-0.510485</td>\n",
       "      <td>-0.203529</td>\n",
       "      <td>-0.510485</td>\n",
       "      <td>-0.490123</td>\n",
       "      <td>-0.198536</td>\n",
       "      <td>2.142272</td>\n",
       "    </tr>\n",
       "    <tr>\n",
       "      <th>3</th>\n",
       "      <td>-0.509080</td>\n",
       "      <td>-0.510485</td>\n",
       "      <td>-0.415837</td>\n",
       "      <td>-0.510485</td>\n",
       "      <td>-0.490600</td>\n",
       "      <td>-0.206655</td>\n",
       "      <td>1.477997</td>\n",
       "    </tr>\n",
       "    <tr>\n",
       "      <th>4</th>\n",
       "      <td>-0.507487</td>\n",
       "      <td>-0.510485</td>\n",
       "      <td>-0.415837</td>\n",
       "      <td>-0.510485</td>\n",
       "      <td>-0.490600</td>\n",
       "      <td>-0.200186</td>\n",
       "      <td>1.842697</td>\n",
       "    </tr>\n",
       "  </tbody>\n",
       "</table>\n",
       "</div>"
      ],
      "text/plain": [
       "          0         1         2         3         4         5         6\n",
       "0 -0.510211  0.271015 -0.410193 -0.467068 -0.487127 -0.225021  2.320280\n",
       "1 -0.509299 -0.510485 -0.203529 -0.510485 -0.490123 -0.231707  2.915088\n",
       "2 -0.509300 -0.510485 -0.203529 -0.510485 -0.490123 -0.198536  2.142272\n",
       "3 -0.509080 -0.510485 -0.415837 -0.510485 -0.490600 -0.206655  1.477997\n",
       "4 -0.507487 -0.510485 -0.415837 -0.510485 -0.490600 -0.200186  1.842697"
      ]
     },
     "execution_count": 25,
     "metadata": {},
     "output_type": "execute_result"
    }
   ],
   "source": [
    "pd.DataFrame(zadanie_1_2).head()"
   ]
  },
  {
   "cell_type": "code",
   "execution_count": 26,
   "id": "4b086426",
   "metadata": {},
   "outputs": [],
   "source": [
    "srednia_kolumn = wartosci_kolumn.mean(axis = 0)\n",
    "odchylenie_kolumn = wartosci_kolumn.std(axis = 0) + np.spacing(wartosci_kolumny.std(axis = 0))\n",
    "zadanie_1_3 = (wartosci_kolumn - srednia_kolumn) / odchylenie_kolumn"
   ]
  },
  {
   "cell_type": "code",
   "execution_count": 27,
   "id": "dca6cbee",
   "metadata": {},
   "outputs": [
    {
     "data": {
      "text/html": [
       "<div>\n",
       "<style scoped>\n",
       "    .dataframe tbody tr th:only-of-type {\n",
       "        vertical-align: middle;\n",
       "    }\n",
       "\n",
       "    .dataframe tbody tr th {\n",
       "        vertical-align: top;\n",
       "    }\n",
       "\n",
       "    .dataframe thead th {\n",
       "        text-align: right;\n",
       "    }\n",
       "</style>\n",
       "<table border=\"1\" class=\"dataframe\">\n",
       "  <thead>\n",
       "    <tr style=\"text-align: right;\">\n",
       "      <th></th>\n",
       "      <th>0</th>\n",
       "      <th>1</th>\n",
       "      <th>2</th>\n",
       "      <th>3</th>\n",
       "      <th>4</th>\n",
       "      <th>5</th>\n",
       "      <th>6</th>\n",
       "    </tr>\n",
       "  </thead>\n",
       "  <tbody>\n",
       "    <tr>\n",
       "      <th>0</th>\n",
       "      <td>-0.715433</td>\n",
       "      <td>0.245715</td>\n",
       "      <td>-1.385253</td>\n",
       "      <td>9.949874</td>\n",
       "      <td>1.430831</td>\n",
       "      <td>0.697390</td>\n",
       "      <td>0.327297</td>\n",
       "    </tr>\n",
       "    <tr>\n",
       "      <th>1</th>\n",
       "      <td>-0.661216</td>\n",
       "      <td>-0.541973</td>\n",
       "      <td>0.127539</td>\n",
       "      <td>-0.100504</td>\n",
       "      <td>-0.049805</td>\n",
       "      <td>0.382061</td>\n",
       "      <td>0.828412</td>\n",
       "    </tr>\n",
       "    <tr>\n",
       "      <th>2</th>\n",
       "      <td>-0.661268</td>\n",
       "      <td>-0.541973</td>\n",
       "      <td>0.127539</td>\n",
       "      <td>-0.100504</td>\n",
       "      <td>-0.049805</td>\n",
       "      <td>1.946424</td>\n",
       "      <td>0.177329</td>\n",
       "    </tr>\n",
       "    <tr>\n",
       "      <th>3</th>\n",
       "      <td>-0.648147</td>\n",
       "      <td>-0.541973</td>\n",
       "      <td>-1.426569</td>\n",
       "      <td>-0.100504</td>\n",
       "      <td>-0.285849</td>\n",
       "      <td>1.563523</td>\n",
       "      <td>-0.382310</td>\n",
       "    </tr>\n",
       "    <tr>\n",
       "      <th>4</th>\n",
       "      <td>-0.553403</td>\n",
       "      <td>-0.541973</td>\n",
       "      <td>-1.426569</td>\n",
       "      <td>-0.100504</td>\n",
       "      <td>-0.285849</td>\n",
       "      <td>1.868615</td>\n",
       "      <td>-0.075057</td>\n",
       "    </tr>\n",
       "  </tbody>\n",
       "</table>\n",
       "</div>"
      ],
      "text/plain": [
       "          0         1         2         3         4         5         6\n",
       "0 -0.715433  0.245715 -1.385253  9.949874  1.430831  0.697390  0.327297\n",
       "1 -0.661216 -0.541973  0.127539 -0.100504 -0.049805  0.382061  0.828412\n",
       "2 -0.661268 -0.541973  0.127539 -0.100504 -0.049805  1.946424  0.177329\n",
       "3 -0.648147 -0.541973 -1.426569 -0.100504 -0.285849  1.563523 -0.382310\n",
       "4 -0.553403 -0.541973 -1.426569 -0.100504 -0.285849  1.868615 -0.075057"
      ]
     },
     "execution_count": 27,
     "metadata": {},
     "output_type": "execute_result"
    }
   ],
   "source": [
    "pd.DataFrame(zadanie_1_3).head()"
   ]
  },
  {
   "cell_type": "code",
   "execution_count": 28,
   "id": "6ef6df9a",
   "metadata": {},
   "outputs": [],
   "source": [
    "zadanie_1_4 = srednia_kolumn / odchylenie_kolumn"
   ]
  },
  {
   "cell_type": "code",
   "execution_count": 29,
   "id": "6d6d2694",
   "metadata": {},
   "outputs": [
    {
     "data": {
      "text/html": [
       "<div>\n",
       "<style scoped>\n",
       "    .dataframe tbody tr th:only-of-type {\n",
       "        vertical-align: middle;\n",
       "    }\n",
       "\n",
       "    .dataframe tbody tr th {\n",
       "        vertical-align: top;\n",
       "    }\n",
       "\n",
       "    .dataframe thead th {\n",
       "        text-align: right;\n",
       "    }\n",
       "</style>\n",
       "<table border=\"1\" class=\"dataframe\">\n",
       "  <thead>\n",
       "    <tr style=\"text-align: right;\">\n",
       "      <th></th>\n",
       "      <th>0</th>\n",
       "    </tr>\n",
       "  </thead>\n",
       "  <tbody>\n",
       "    <tr>\n",
       "      <th>0</th>\n",
       "      <td>0.731757</td>\n",
       "    </tr>\n",
       "    <tr>\n",
       "      <th>1</th>\n",
       "      <td>0.541973</td>\n",
       "    </tr>\n",
       "    <tr>\n",
       "      <th>2</th>\n",
       "      <td>2.119402</td>\n",
       "    </tr>\n",
       "    <tr>\n",
       "      <th>3</th>\n",
       "      <td>0.100504</td>\n",
       "    </tr>\n",
       "    <tr>\n",
       "      <th>4</th>\n",
       "      <td>10.113842</td>\n",
       "    </tr>\n",
       "    <tr>\n",
       "      <th>5</th>\n",
       "      <td>12.765548</td>\n",
       "    </tr>\n",
       "    <tr>\n",
       "      <th>6</th>\n",
       "      <td>2.057569</td>\n",
       "    </tr>\n",
       "  </tbody>\n",
       "</table>\n",
       "</div>"
      ],
      "text/plain": [
       "           0\n",
       "0   0.731757\n",
       "1   0.541973\n",
       "2   2.119402\n",
       "3   0.100504\n",
       "4  10.113842\n",
       "5  12.765548\n",
       "6   2.057569"
      ]
     },
     "execution_count": 29,
     "metadata": {},
     "output_type": "execute_result"
    }
   ],
   "source": [
    "pd.DataFrame(zadanie_1_4)"
   ]
  },
  {
   "cell_type": "code",
   "execution_count": 30,
   "id": "f5d3bb30",
   "metadata": {},
   "outputs": [
    {
     "data": {
      "text/plain": [
       "12.765548392164728"
      ]
     },
     "execution_count": 30,
     "metadata": {},
     "output_type": "execute_result"
    }
   ],
   "source": [
    "zadanie_1_5 = zadanie_1_4.max(axis = 0)\n",
    "zadanie_1_5"
   ]
  },
  {
   "cell_type": "code",
   "execution_count": 31,
   "id": "8cb5ea5c",
   "metadata": {},
   "outputs": [],
   "source": [
    "zadanie_1_6 = (zadanie_1 > srednia_kolumn).sum()"
   ]
  },
  {
   "cell_type": "code",
   "execution_count": 32,
   "id": "e61da491",
   "metadata": {},
   "outputs": [
    {
     "data": {
      "text/html": [
       "<div>\n",
       "<style scoped>\n",
       "    .dataframe tbody tr th:only-of-type {\n",
       "        vertical-align: middle;\n",
       "    }\n",
       "\n",
       "    .dataframe tbody tr th {\n",
       "        vertical-align: top;\n",
       "    }\n",
       "\n",
       "    .dataframe thead th {\n",
       "        text-align: right;\n",
       "    }\n",
       "</style>\n",
       "<table border=\"1\" class=\"dataframe\">\n",
       "  <thead>\n",
       "    <tr style=\"text-align: right;\">\n",
       "      <th></th>\n",
       "      <th>0</th>\n",
       "    </tr>\n",
       "  </thead>\n",
       "  <tbody>\n",
       "    <tr>\n",
       "      <th>kolumna 1</th>\n",
       "      <td>22</td>\n",
       "    </tr>\n",
       "    <tr>\n",
       "      <th>kolumna 2</th>\n",
       "      <td>37</td>\n",
       "    </tr>\n",
       "    <tr>\n",
       "      <th>kolumna 3</th>\n",
       "      <td>53</td>\n",
       "    </tr>\n",
       "    <tr>\n",
       "      <th>kolumna 4</th>\n",
       "      <td>1</td>\n",
       "    </tr>\n",
       "    <tr>\n",
       "      <th>kolumna 5</th>\n",
       "      <td>38</td>\n",
       "    </tr>\n",
       "    <tr>\n",
       "      <th>kolumna 6</th>\n",
       "      <td>40</td>\n",
       "    </tr>\n",
       "    <tr>\n",
       "      <th>kolumna 7</th>\n",
       "      <td>52</td>\n",
       "    </tr>\n",
       "  </tbody>\n",
       "</table>\n",
       "</div>"
      ],
      "text/plain": [
       "            0\n",
       "kolumna 1  22\n",
       "kolumna 2  37\n",
       "kolumna 3  53\n",
       "kolumna 4   1\n",
       "kolumna 5  38\n",
       "kolumna 6  40\n",
       "kolumna 7  52"
      ]
     },
     "execution_count": 32,
     "metadata": {},
     "output_type": "execute_result"
    }
   ],
   "source": [
    "pd.DataFrame(zadanie_1_6)"
   ]
  },
  {
   "cell_type": "code",
   "execution_count": 33,
   "id": "faba47c9",
   "metadata": {},
   "outputs": [],
   "source": [
    "#print(zadanie_1.to_string())"
   ]
  },
  {
   "cell_type": "code",
   "execution_count": 34,
   "id": "3c8f067f",
   "metadata": {},
   "outputs": [],
   "source": [
    "#print(srednia_kolumn)"
   ]
  },
  {
   "cell_type": "code",
   "execution_count": 41,
   "id": "5e814f59",
   "metadata": {},
   "outputs": [
    {
     "data": {
      "text/plain": [
       "Index(['kolumna 1', 'kolumna 2', 'kolumna 3', 'kolumna 4', 'kolumna 5',\n",
       "       'kolumna 6', 'kolumna 7'],\n",
       "      dtype='object')"
      ]
     },
     "execution_count": 41,
     "metadata": {},
     "output_type": "execute_result"
    }
   ],
   "source": [
    "maks_w_kolumnach = zadanie_1.values.max()\n",
    "#maks_w_kolumnach\n",
    "maska = zadanie_1.values == maks_w_kolumnach.values\n",
    "nazwy_kolumn_maksima = zadanie_1.columns[maska.any(axis = 0)]\n",
    "nazwy_kolumn_maksima"
   ]
  },
  {
   "cell_type": "code",
   "execution_count": null,
   "id": "4781d5ee",
   "metadata": {},
   "outputs": [],
   "source": []
  }
 ],
 "metadata": {
  "kernelspec": {
   "display_name": "Python 3 (ipykernel)",
   "language": "python",
   "name": "python3"
  },
  "language_info": {
   "codemirror_mode": {
    "name": "ipython",
    "version": 3
   },
   "file_extension": ".py",
   "mimetype": "text/x-python",
   "name": "python",
   "nbconvert_exporter": "python",
   "pygments_lexer": "ipython3",
   "version": "3.11.4"
  }
 },
 "nbformat": 4,
 "nbformat_minor": 5
}
